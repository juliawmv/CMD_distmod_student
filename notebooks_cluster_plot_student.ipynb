{
  "metadata": {
    "kernelspec": {
      "name": "python",
      "display_name": "Python (Pyodide)",
      "language": "python"
    },
    "language_info": {
      "codemirror_mode": {
        "name": "python",
        "version": 3
      },
      "file_extension": ".py",
      "mimetype": "text/x-python",
      "name": "python",
      "nbconvert_exporter": "python",
      "pygments_lexer": "ipython3",
      "version": "3.8"
    }
  },
  "nbformat_minor": 4,
  "nbformat": 4,
  "cells": [
    {
      "cell_type": "markdown",
      "source": "**Name**: ",
      "metadata": {}
    },
    {
      "cell_type": "markdown",
      "source": "# Main sequence fitting of clusters (40 points)\n\nI expect that you will be able to complete most of the work in class.  If you do not, you have till **weds. Sept. 20** to hand it in.  Instructions on how to do so are at the end of the document.  \n\nThis exercise is intended to give you a practical exercise in determining the distance to star clusters in the milky way.  You will do this by plotting the color-magnitude diagrams of 4 clusters compared to that of a cluster with a known distances.  This \"reference\" cluster is the nearby Pleiades (M 45), which is visible to the naked eye in late fall/winter.  It has a distance of 130pc.\n\nThere are four other clusters that you will be studying:<br>\nM 34<br>\nM 36<br>\nNGC 6231<br>\nNGC 3293<br>\n\nI have written a program to plot the color magnitude diagram of each cluster on top of the Plieades cluster.  You run this code by typing:\n\n*cp.cmdplot(clustname='cluster name',magshift=0.0,colshift=0.0)*\n\nFor each cluster you will use the code to plot that cluster and input color and magnitude shifts to align the cluster with the Pleiades.  Using your knowledge of how distance affects color and magnitude, you will need to decide if you use color shifts, magnitude shifts, or both.\n\nUsing these shifts you will write a snippet of code below each plot in the space provided.  This code should be a short calculation to determine what the distance is based on the shifts. \n\n_Note that it is not required that color and magnitude shifts be used in your calculation.  You get to decide which are important._\n\nIn order to get full credit for this assignment all cells have to execute without errors.  You also need to fill out the cells at the bottom and add code where required\n\nThe colors and magnitudes being used in this program are called GRP and GBP.  These stand for \"GAIA Red Passband\" and \"GAIA Blue Passband\" and are custome filters used for the GAIA mission.\n\nAll sections of code that you need to work on will be indicated by a '#### Write code here'",
      "metadata": {}
    },
    {
      "cell_type": "code",
      "source": "import cluster_plot as cp\nimport numpy as np\nfrom matplotlib import pyplot as plt\nimport warnings\nwarnings.filterwarnings('ignore')",
      "metadata": {},
      "execution_count": null,
      "outputs": []
    },
    {
      "cell_type": "markdown",
      "source": "## From here onward is the assignment\n\n#### M34 (3 points)",
      "metadata": {}
    },
    {
      "cell_type": "code",
      "source": "cp.cmdplot(clustname='M 34',magshift=-2.7,colshift=0.0)",
      "metadata": {},
      "execution_count": null,
      "outputs": []
    },
    {
      "cell_type": "markdown",
      "source": "In this cell, describe what you chose for your shifts and why.",
      "metadata": {}
    },
    {
      "cell_type": "markdown",
      "source": "Use the derived shifts to compute a distance to the cluster relative to the Pleiades cluster by writing a small snippet of code.",
      "metadata": {}
    },
    {
      "cell_type": "code",
      "source": "#write a calculation here that you execute and which prints out the ratio of the distance of your cluster to that of the Pleiades\n#To compute the log_10 you need to write \"np.log10(number)\"\n#### Write code here.\n# enter your calculated shift here\nshift_m34 = -2.7\n\n# Assuming the distance to M45 is 130pc write an code expression that converts your shift into the ratio of the distances \n#the Pleiades to this cluster\ndist_ratio_m34 = 10**((shift_m34)/5)\nprint(dist_ratio_m34)",
      "metadata": {},
      "execution_count": null,
      "outputs": []
    },
    {
      "cell_type": "markdown",
      "source": "#### M 36 (3 points)",
      "metadata": {}
    },
    {
      "cell_type": "code",
      "source": "cp.cmdplot(clustname='M 36',magshift=-4,colshift=0.0)",
      "metadata": {},
      "execution_count": null,
      "outputs": []
    },
    {
      "cell_type": "markdown",
      "source": "In this cell, describe what you chose for your shifts and why.",
      "metadata": {}
    },
    {
      "cell_type": "markdown",
      "source": "Use the derived shifts to compute a distance to the cluster relative to the Pleiades cluster by writing a small snippet of code.",
      "metadata": {}
    },
    {
      "cell_type": "code",
      "source": "#write a calculation here that you execute and which prints out the ratio of the distance of your cluster to that of the Pleiades\n#To compute the log_10 you need to write \"np.log10(number)\"\n#### Write code here.\n# enter your calculated shift here\nshift_m36 = -4\n\n# Assuming the distance to M45 is 130pc write an code expression that converts your shift into the ratio of the distances \n#the Pleiades to this cluster\ndist_ratio_m36 = 10**((shift_m36)/5)\nprint(dist_ratio_m36)",
      "metadata": {},
      "execution_count": null,
      "outputs": []
    },
    {
      "cell_type": "markdown",
      "source": "#### NGC 6231  (3 points)",
      "metadata": {}
    },
    {
      "cell_type": "code",
      "source": "cp.cmdplot(clustname='NGC 6231',magshift=-3.3,colshift=0.0)",
      "metadata": {},
      "execution_count": null,
      "outputs": []
    },
    {
      "cell_type": "markdown",
      "source": "In this cell, describe what you chose for your shifts and why.",
      "metadata": {}
    },
    {
      "cell_type": "markdown",
      "source": "Use the derived shifts to compute a distance to the cluster relative to the Pleiades cluster by writing a small snippet of code.",
      "metadata": {}
    },
    {
      "cell_type": "code",
      "source": "#write a calculation here that you execute and which prints out the ratio of the distance of your cluster to that of the Pleiades\n#To compute the log_10 you need to write \"np.log10(number)\"\n#### Write code here.\n\n# enter your calculated shift here\nshift_ngc6231 = -3.3\n\n# Assuming the distance to M45 is 130pc write an code expression that converts your shift into the ratio of the distances \n#the Pleiades to this cluster\ndist_ratio_ngc6231 = 10**((shift_ngc6231)/5)\nprint(dist_ratio_ngc6231)",
      "metadata": {},
      "execution_count": null,
      "outputs": []
    },
    {
      "cell_type": "markdown",
      "source": "#### NGC 3293  (3 points)",
      "metadata": {}
    },
    {
      "cell_type": "code",
      "source": "cp.cmdplot(clustname='ngc 3293',magshift=-5.5,colshift=0.0)",
      "metadata": {},
      "execution_count": null,
      "outputs": []
    },
    {
      "cell_type": "markdown",
      "source": "In this cell, describe what you chose for your shifts and why.",
      "metadata": {}
    },
    {
      "cell_type": "markdown",
      "source": "Use the derived shifts to compute a distance to the cluster relative to the Pleiades cluster by writing a small snippet of code.",
      "metadata": {}
    },
    {
      "cell_type": "code",
      "source": "#write a calculation here that you execute and which prints out the ratio of the distance of your cluster to that of the Pleiades\n#To compute the log_10 you need to write \"np.log10(number)\"\n#### Write code here.\n\n# enter your calculated shift here\nshift_ngc3293 = -5.5\n\n# Assuming the distance to M45 is 130pc write an code expression that converts your shift into the ratio of the distances \n#the Pleiades to this cluster\ndist_ratio_ngc3293 = 10**((shift_ngc3293)/5)\nprint(dist_ratio_ngc3293)",
      "metadata": {},
      "execution_count": null,
      "outputs": []
    },
    {
      "cell_type": "markdown",
      "source": "# plotting distances vs. distance modulus  (12 points)\nIf the distance to the Pleiades cluster is 130pc, compute the distance modulus to each cluster.  You can do the algebra on a separate piece of paper, but below I want you to code up the formula for each cluster in the field below",
      "metadata": {}
    },
    {
      "cell_type": "code",
      "source": "#For each cluster put in a line of code that calculates the distance modulus.  I have given part of the code below and expect you to fill it in.\n\n#this creates a python array that contains all of the distance ratios you calculated above.  \n#Now you can do operations on this array and it will operate on every element\ndist_ratios = np.array([dist_ratio_m34, dist_ratio_m36, dist_ratio_ngc6231, dist_ratio_ngc3293])\n\n#### Write code here.\n\n#write an expression to calculate the distance to each cluster\ndist_pleiades = 130.0\ndists = dist_pleiades / dist_ratios\n\nprint(\"Distance for M 34 = \", dists[0], \" pc\")\nprint(\"Distance for M 36 = \", dists[1], \" pc\")\nprint(\"Distance for NGC 6231 = \", dists[2], \" pc\")\nprint(\"Distance for NGC 3293 = \", dists[3], \" pc\")\nprint()\n\n#write an expression to derive the distance modulus from the distance ratio or distance\ndist_mods = 5 * np.log10(dists / 10.0)\n\nprint(\"Distance Modulus for M 34 = \", dist_mods[0])\nprint(\"Distance Modulus for M 36 = \", dist_mods[1])\nprint(\"Distance Modulus for NGC 6231 = \", dist_mods[2])\nprint(\"Distance Modulus for NGC 3293 = \", dist_mods[3])",
      "metadata": {},
      "execution_count": null,
      "outputs": []
    },
    {
      "cell_type": "markdown",
      "source": "Now make a plot of the Distance modulus you calculated above vs. the log10 of the distance.  I will write some of the code below and you will need to fill it in to get the appropriate values.\n\nI then want you to overplot the relation that you would expect given the relation between distance and distance modulus\n\nIn the `plot` statement below there are missing arguments.  the `'ko', markersize=9)` part of the call indicates that you should have black circles (`'ko'`) and that the size of the points should be 9, in whatever units pyplot uses (bigger number = larger points)",
      "metadata": {}
    },
    {
      "cell_type": "code",
      "source": "#You will need to make an array that contains the log of the distances\n\n#### Write code here\nlogdist = np.log10(dists)\n\n#now complete this plot statement to plot the log of the distance vs. the distance modulus.  \nplt.plot( ,'ko', markersize=9)\nplt.xlabel('log(distance [pc])')\nplt.ylabel('Distance modulus')\n\n# here you will need to draw a line on your plot that shows the prediction\n#of the distance modulus given the distance.\n#these are the two x-points of your line, in log distance\nlogdistpred = np.array([2,4])\n\n# write down the function that turns logdistpred into the distance modulus\n# \ndmpred = 5 * (logdistpred - np.log10(10.0))\n\n#plot this line on the previous plot\n#the 'r-' indicates a red line\nplt.plot(logdistpred, dmpred, 'r-')\n",
      "metadata": {},
      "execution_count": null,
      "outputs": []
    },
    {
      "cell_type": "markdown",
      "source": "### below this line you need to modify the cells and include text  (16 points)\n\nIn each cell add text to answer the following questions",
      "metadata": {}
    },
    {
      "cell_type": "markdown",
      "source": "- How the line you plotted matches (or not) the trend you see in the data.",
      "metadata": {}
    },
    {
      "cell_type": "markdown",
      "source": "- Why do more distant clusters have more stars? Note that I used parallaxes to make a cut of roughly 30% in distance around each cluster.  This means I took the mean distance of the cluster and took stars between 70\\% and 130\\% of that distance.\n",
      "metadata": {}
    },
    {
      "cell_type": "markdown",
      "source": "- What astrophysical effect that we are ignoring might affect our derived distances and in what way?",
      "metadata": {}
    },
    {
      "cell_type": "markdown",
      "source": "- How might you do a better job determining the shifts than doing it by eye.  If you would like to try it out your method, you can take some of the data files in the Project_clusters/ directory and try to implement a better method.  The quantities we use to make the plots are bp_rp for the x-axis and phot_rp_mean_mag for the y-axis.  \n\n***Hint***: There are functions in numpy, `numpy.median()` and `numpy.average()` that take the mean and median of an array passed to it.  So you could use Boolean commands to select a portion of one of the axes and one of the numpy commands to compute the median or average value of the other parameter.\n",
      "metadata": {}
    },
    {
      "cell_type": "markdown",
      "source": "## Instructions for handing the assignment in\n\nMake sure to save your notebook.\n\nAdd this file to your CMD_fitting_distance_modulus github repository.\n\nNo need to add me as a collaborator.  As long as you named the exercise accordingly I will be able to find it in your repository.",
      "metadata": {}
    }
  ]
}